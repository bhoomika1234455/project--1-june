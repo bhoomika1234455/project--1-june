{
  "nbformat": 4,
  "nbformat_minor": 0,
  "metadata": {
    "colab": {
      "name": "G9_Space_Missions.ipynb",
      "provenance": [],
      "collapsed_sections": []
    },
    "kernelspec": {
      "name": "python3",
      "display_name": "Python 3"
    }
  },
  "cells": [
    {
      "cell_type": "markdown",
      "metadata": {
        "id": "naTRvNmZQAdb"
      },
      "source": [
        "#Space Missions Analysis# \n",
        "###Group-9###"
      ]
    },
    {
      "cell_type": "markdown",
      "metadata": {
        "id": "Ka6igKaXQAxp"
      },
      "source": [
        "###Bindushree.S 20181COM0028###\n",
        "###Darapu Naidu 20181COM0038###\n",
        "###Bhoomika.M 20181COM0024###\n",
        "###G S Uthej 20181COM0047###\n",
        "###Gude Srinivasulu 20181COM0056###"
      ]
    },
    {
      "cell_type": "markdown",
      "metadata": {
        "id": "lYj4StzDhKeb"
      },
      "source": [
        "###Importing Libraries###"
      ]
    },
    {
      "cell_type": "code",
      "metadata": {
        "id": "ciCxTB0lJvNT"
      },
      "source": [
        "import pandas as pd  #pandas is a data manipulation and analysis tool \n",
        "import numpy as np   #numpy is the library for numerical computation\n",
        "import seaborn as sns  #seaborn is a library for making statistical graphics\n",
        "import matplotlib.pyplot as plt  #Matplotlib is a plotting library \n",
        "import plotly.express as px   #plotly.express provides consistent and interactive figures "
      ],
      "execution_count": null,
      "outputs": []
    },
    {
      "cell_type": "code",
      "metadata": {
        "id": "IBgsF7vFJ-kZ"
      },
      "source": [
        "#Read the csv file\n",
        "df=pd.read_csv('Space_Corrected.csv')\n",
        "df.head()"
      ],
      "execution_count": null,
      "outputs": []
    },
    {
      "cell_type": "markdown",
      "metadata": {
        "id": "CnbCafUGU2Of"
      },
      "source": [
        "#PreProcessing"
      ]
    },
    {
      "cell_type": "markdown",
      "metadata": {
        "id": "2d4ycgRNe-4X"
      },
      "source": [
        "##Information of the dataframe##"
      ]
    },
    {
      "cell_type": "code",
      "metadata": {
        "id": "iPoQdpT9NhHm"
      },
      "source": [
        "# to find the Information of the dataframe#\n",
        "print(\"The information of the space dataframe is\")\n",
        "print(df.info())"
      ],
      "execution_count": null,
      "outputs": []
    },
    {
      "cell_type": "markdown",
      "metadata": {
        "id": "PEiB6vIYfHA8"
      },
      "source": [
        "##rows and columns of the dataframe##"
      ]
    },
    {
      "cell_type": "code",
      "metadata": {
        "id": "k-iNQjA0N2B4"
      },
      "source": [
        "# to find the rows and columns of the dataframe#\n",
        "print(\"The number of rows and columns are\")\n",
        "print(df.shape)"
      ],
      "execution_count": null,
      "outputs": []
    },
    {
      "cell_type": "markdown",
      "metadata": {
        "id": "rbEwW7e1fQK1"
      },
      "source": [
        "##columns present in dataframe##"
      ]
    },
    {
      "cell_type": "code",
      "metadata": {
        "id": "WqQj-JjIOzIR"
      },
      "source": [
        "#To get the columns present in dataframe#\n",
        "print(\"The columns present in dataframe is\")\n",
        "print(df.columns)"
      ],
      "execution_count": null,
      "outputs": []
    },
    {
      "cell_type": "code",
      "metadata": {
        "id": "9arcrSgoNc7n"
      },
      "source": [
        "df.drop('Unnamed: 0.1',axis=1,inplace=True) # Dropping Unnamed: 0.1 column since it does not provide any information\n",
        "df.head()"
      ],
      "execution_count": null,
      "outputs": []
    },
    {
      "cell_type": "code",
      "metadata": {
        "id": "kBp1lPpzTuYc"
      },
      "source": [
        "df.drop('Unnamed: 0',axis=1,inplace=True) # Dropping Unnamed: 0 column since it does not provide any information\n",
        "df.head()"
      ],
      "execution_count": null,
      "outputs": []
    },
    {
      "cell_type": "markdown",
      "metadata": {
        "id": "WiachHiMfcpe"
      },
      "source": [
        "##Descriptive statistics of the dataframe##"
      ]
    },
    {
      "cell_type": "code",
      "metadata": {
        "id": "iWA0RQ28N9aq"
      },
      "source": [
        "#To print the descriptive statistics of the dataframe#\n",
        "print(\"The descriptive statistics of the dataframe is\")\n",
        "df.describe()"
      ],
      "execution_count": null,
      "outputs": []
    },
    {
      "cell_type": "markdown",
      "metadata": {
        "id": "f0f2I5fzfkMh"
      },
      "source": [
        "##value count of mission status column##"
      ]
    },
    {
      "cell_type": "code",
      "metadata": {
        "id": "EiiUu663O4Oh"
      },
      "source": [
        "#To get the value count of mission status column#\n",
        "print(\"The value count of mission status column in the dataset is\")\n",
        "df[\"Status Mission\"].value_counts()"
      ],
      "execution_count": null,
      "outputs": []
    },
    {
      "cell_type": "markdown",
      "metadata": {
        "id": "7BEI26Bafv2U"
      },
      "source": [
        "##Null values in the dataframe##"
      ]
    },
    {
      "cell_type": "code",
      "metadata": {
        "id": "_pYxuG3VKL2t"
      },
      "source": [
        "# To find any null values in the dataframe#\n",
        "df.isna().any() "
      ],
      "execution_count": null,
      "outputs": []
    },
    {
      "cell_type": "markdown",
      "metadata": {
        "id": "AXkS86kqf25l"
      },
      "source": [
        "##Number of null values in Rocket column of the dataframe\n",
        "\n",
        "\n"
      ]
    },
    {
      "cell_type": "code",
      "metadata": {
        "id": "2oa10rMtKoc7"
      },
      "source": [
        "# To find the number of null values in Rocket column of the dataframe\n",
        "df[' Rocket'].isna().value_counts()"
      ],
      "execution_count": null,
      "outputs": []
    },
    {
      "cell_type": "code",
      "metadata": {
        "id": "wTOcSS6YT7xW"
      },
      "source": [
        "df.drop(' Rocket',axis=1,inplace=True) # Dropping Rocket since it contains lots of null values\n",
        "df.head()"
      ],
      "execution_count": null,
      "outputs": []
    },
    {
      "cell_type": "markdown",
      "metadata": {
        "id": "xxxGq-DLgD0h"
      },
      "source": [
        "##Datatype of all the columns in the dataframe"
      ]
    },
    {
      "cell_type": "code",
      "metadata": {
        "id": "1mBWamS8Ktib"
      },
      "source": [
        "# To find the datatype of all the columns in the dataframe\n",
        "df.dtypes "
      ],
      "execution_count": null,
      "outputs": []
    },
    {
      "cell_type": "markdown",
      "metadata": {
        "id": "b2VhNMSBgQoY"
      },
      "source": [
        "##Remove the word Status in Status Rocket column Values"
      ]
    },
    {
      "cell_type": "code",
      "metadata": {
        "id": "QGU9rVYoN6lw"
      },
      "source": [
        "# To change the Status Rocket column values from StatusActive to Active by removing the word Status\n",
        "df['Status Rocket']=df['Status Rocket'].str.replace('Status','')\n",
        "print(df['Status Rocket'])"
      ],
      "execution_count": null,
      "outputs": []
    },
    {
      "cell_type": "markdown",
      "metadata": {
        "id": "AHdZYSZ5U7wu"
      },
      "source": [
        "#Visualizations"
      ]
    },
    {
      "cell_type": "markdown",
      "metadata": {
        "id": "fHhlLtGGjj4t"
      },
      "source": [
        "##Current Status of the Rockets##"
      ]
    },
    {
      "cell_type": "code",
      "metadata": {
        "id": "UzWl1fehOzu7"
      },
      "source": [
        "#To draw the category plot of Status rocket column\n",
        "sns.catplot('Status Rocket',kind='count',data=df,height=4,palette='autumn')\n",
        "plt.title('Current status of rockets',size=25)\n",
        "plt.xlabel('Rocket status',size=15)\n",
        "plt.show()"
      ],
      "execution_count": null,
      "outputs": []
    },
    {
      "cell_type": "markdown",
      "metadata": {
        "id": "-bA6Rd79khL7"
      },
      "source": [
        "Conclusion: Most of the rockets are retired"
      ]
    },
    {
      "cell_type": "markdown",
      "metadata": {
        "id": "_aYste4Cjz8_"
      },
      "source": [
        "##Mission Status##"
      ]
    },
    {
      "cell_type": "code",
      "metadata": {
        "id": "YtfPRG99d9xt"
      },
      "source": [
        "#to get the count of each mission status\n",
        "data = df['Status Mission'].value_counts().reset_index()\n",
        "data.columns = [\n",
        "    'Status Mission',  \n",
        "    'count'\n",
        "]\n",
        "print(data)"
      ],
      "execution_count": null,
      "outputs": []
    },
    {
      "cell_type": "code",
      "metadata": {
        "id": "ZhZxMaX3pslq"
      },
      "source": [
        "#plotting a pie graph to show the mission status\n",
        "fig = px.pie(\n",
        "    data, \n",
        "    values='count', \n",
        "    names='Status Mission', \n",
        "    title='Mission Status in Percentage', \n",
        "    width=500, \n",
        "    height=500\n",
        ")\n",
        "\n",
        "fig.show()"
      ],
      "execution_count": null,
      "outputs": []
    },
    {
      "cell_type": "markdown",
      "metadata": {
        "id": "ZVHUYRVYka3b"
      },
      "source": [
        "Conclusion: Majority of the status mission is success while the minimum is prelaunch failure"
      ]
    },
    {
      "cell_type": "markdown",
      "metadata": {
        "id": "tFYCBWbRk6JT"
      },
      "source": [
        "##Company##"
      ]
    },
    {
      "cell_type": "code",
      "metadata": {
        "id": "3CguN9CCeROQ"
      },
      "source": [
        "#To get the number of rockets owned per company\n",
        "data = df['Company Name'].value_counts().reset_index()\n",
        "\n",
        "data.columns = [\n",
        "    'Company Name', \n",
        "    'count'\n",
        "]\n",
        "\n",
        "print(data)"
      ],
      "execution_count": null,
      "outputs": []
    },
    {
      "cell_type": "code",
      "metadata": {
        "id": "h_31LsvrqVOt"
      },
      "source": [
        "#plotting the bar graph for company\n",
        "fig = px.bar(\n",
        "    data,  \n",
        "    x='count', \n",
        "    y='Company Name', \n",
        "    orientation='h', \n",
        "    title='Company and its count of Rocket', \n",
        "    width=600, \n",
        "    height=600\n",
        ") \n",
        "\n",
        "fig.show()"
      ],
      "execution_count": null,
      "outputs": []
    },
    {
      "cell_type": "markdown",
      "metadata": {
        "id": "w7heKCbPlcr1"
      },
      "source": [
        "Conclusion: RVSN USSR owns the highest number of rockets"
      ]
    },
    {
      "cell_type": "markdown",
      "metadata": {
        "id": "yYVdMAwfmBAi"
      },
      "source": [
        "##Status Rocket## "
      ]
    },
    {
      "cell_type": "code",
      "metadata": {
        "id": "yUVmBJ62Wue-"
      },
      "source": [
        "#counting the status mission with respect to active and retired rockets\n",
        "sns.catplot('Status Mission',kind='count',data=df,hue='Status Rocket',palette='Dark2',height=6,aspect=2)  \n",
        "plt.xticks(size=15)\n",
        "plt.xlabel('Status Mission',size=15)\n",
        "plt.yticks(size=15)\n",
        "plt.ylabel('Count',size=15)\n",
        "plt.title('Status Mission of active and retired Rockets',size=15)\n",
        "plt.show()"
      ],
      "execution_count": null,
      "outputs": []
    },
    {
      "cell_type": "markdown",
      "metadata": {
        "id": "621A2Lk7mhE-"
      },
      "source": [
        "Conclusion: Retired rockets has highest success rate "
      ]
    },
    {
      "cell_type": "markdown",
      "metadata": {
        "id": "1-NLI7jfnQFQ"
      },
      "source": [
        "##Success Rocket Analysis##"
      ]
    },
    {
      "cell_type": "code",
      "metadata": {
        "id": "EBWrAsxOe7KE"
      },
      "source": [
        "#success rocket analysis count\n",
        "success=df[df['Status Mission']=='Success']\n",
        "\n",
        "data = success['Company Name'].value_counts().reset_index()\n",
        "\n",
        "data.columns = [\n",
        "    'Status Mission', \n",
        "    'count'\n",
        "]\n",
        "\n",
        "data = data.sort_values('count')\n",
        "print(data)"
      ],
      "execution_count": null,
      "outputs": []
    },
    {
      "cell_type": "code",
      "metadata": {
        "id": "TQdfwjd4q9Bo"
      },
      "source": [
        "#success rocket analysis visualization\n",
        "fig = px.bar(  \n",
        "     data.tail(25),\n",
        "    y='count', \n",
        "    x='Status Mission', \n",
        "    orientation='v', \n",
        "    title='Company with highest Success Rockets', \n",
        "    width=700, \n",
        "    height=700,\n",
        "    color='count',\n",
        "    \n",
        ")\n",
        "\n",
        "fig.show()"
      ],
      "execution_count": null,
      "outputs": []
    },
    {
      "cell_type": "markdown",
      "metadata": {
        "id": "PjotvRDMnmbX"
      },
      "source": [
        "Conclusion: RVSN USSR has highest success rate"
      ]
    },
    {
      "cell_type": "code",
      "metadata": {
        "id": "JnJC3Q6hfZFA"
      },
      "source": [
        "#To get the current status of successful rockets\n",
        "data = success['Status Rocket'].value_counts().reset_index()\n",
        "\n",
        "data.columns = [\n",
        "    'Status Rocket', \n",
        "    'count'\n",
        "]\n",
        "print(data)"
      ],
      "execution_count": null,
      "outputs": []
    },
    {
      "cell_type": "code",
      "metadata": {
        "id": "i1BZOkWdr63b"
      },
      "source": [
        "#To plot the pie chart for the current status of successful rockets\n",
        "fig = px.pie(\n",
        "    data, \n",
        "    values='count', \n",
        "    names='Status Rocket', \n",
        "    title='Current Status of Success Rockets in Percentage', \n",
        "    width=500, \n",
        "    height=500,\n",
        "    color_discrete_sequence=px.colors.sequential.RdBu\n",
        ")\n",
        "\n",
        "fig.show()"
      ],
      "execution_count": null,
      "outputs": []
    },
    {
      "cell_type": "markdown",
      "metadata": {
        "id": "gx1GzLS2n0x_"
      },
      "source": [
        "Conclusion: Retired rockets have had highest success while the active rockets have had lesser success"
      ]
    },
    {
      "cell_type": "markdown",
      "metadata": {
        "id": "KT_lG2OXonI8"
      },
      "source": [
        "##Failure Rocket Analysis##"
      ]
    },
    {
      "cell_type": "code",
      "metadata": {
        "id": "J_tmVx1_fAbm"
      },
      "source": [
        "#Failure rocket analysis count\n",
        "Failure=df[df['Status Mission']=='Failure']\n",
        "\n",
        "data = Failure['Company Name'].value_counts().reset_index()\n",
        "\n",
        "data.columns = [\n",
        "    'Status Mission', \n",
        "    'count'\n",
        "]\n",
        "\n",
        "data = data.sort_values('count')\n",
        "print(data)"
      ],
      "execution_count": null,
      "outputs": []
    },
    {
      "cell_type": "code",
      "metadata": {
        "id": "-19pZ6Uis0rG"
      },
      "source": [
        "# Visualization of failure  rocket using scatter\n",
        "fig = px.line(  \n",
        "     data.tail(25),\n",
        "    y='count', \n",
        "    x='Status Mission', \n",
        "    title='Company with highest Failure Rockets', \n",
        "    width=700, \n",
        "    height=700\n",
        ")\n",
        " \n",
        "fig.show()"
      ],
      "execution_count": null,
      "outputs": []
    },
    {
      "cell_type": "markdown",
      "metadata": {
        "id": "7K7SyTC5oK4e"
      },
      "source": [
        "Conclusion: RVSN USSR has highest number of failures"
      ]
    },
    {
      "cell_type": "code",
      "metadata": {
        "id": "XgZESMZJfRwg"
      },
      "source": [
        "#Failure rocket status analysis\n",
        "data = Failure['Status Rocket'].value_counts().reset_index()\n",
        "\n",
        "data.columns = [\n",
        "    'Status Rocket', \n",
        "    'count'\n",
        "]\n",
        "print(data)"
      ],
      "execution_count": null,
      "outputs": []
    },
    {
      "cell_type": "code",
      "metadata": {
        "id": "1hqToXlT07yn"
      },
      "source": [
        "#to plot the pie chart for the current status of failure rockets\n",
        "fig = px.pie(\n",
        "    data, \n",
        "    values='count', \n",
        "    names='Status Rocket', \n",
        "    title='Current Status  of Failure Rockets in Percentage', \n",
        "    width=500, \n",
        "    height=500\n",
        ")\n",
        "\n",
        "fig.show()"
      ],
      "execution_count": null,
      "outputs": []
    },
    {
      "cell_type": "markdown",
      "metadata": {
        "id": "noFJOwc8oYu4"
      },
      "source": [
        "Conclusion: Most Failure Rockets are now Retired"
      ]
    },
    {
      "cell_type": "markdown",
      "metadata": {
        "id": "78xPZdr8o43R"
      },
      "source": [
        "##ISRO analysis##"
      ]
    },
    {
      "cell_type": "code",
      "metadata": {
        "id": "XZf9d1OEgQEW"
      },
      "source": [
        "# Count Of rockets launched by ISRO\n",
        "isro=df[df['Company Name']=='ISRO']\n",
        "print(\"No Of rockets launched by ISRO\",isro.shape[0])"
      ],
      "execution_count": null,
      "outputs": []
    },
    {
      "cell_type": "code",
      "metadata": {
        "id": "IfY3o_xGbkAh"
      },
      "source": [
        "# Status Mission of ISRO Rockets\n",
        "sns.countplot(isro['Status Mission'])\n",
        "plt.title(\"Mission status of the ISRO Rockets\")\n",
        "plt.show()"
      ],
      "execution_count": null,
      "outputs": []
    },
    {
      "cell_type": "markdown",
      "metadata": {
        "id": "79ZU24PtpELP"
      },
      "source": [
        "Conclusion: ISRO has gven more successful space mission than failure"
      ]
    },
    {
      "cell_type": "code",
      "metadata": {
        "id": "yN0Rq6Ptgag-"
      },
      "source": [
        "# Current Status of ISRO Rockets\n",
        "sns.countplot(isro['Status Rocket'])\n",
        "plt.title(\"Current status of the ISRO Rockets\")\n",
        "plt.show()"
      ],
      "execution_count": null,
      "outputs": []
    },
    {
      "cell_type": "markdown",
      "metadata": {
        "id": "vjf5In9ppQDh"
      },
      "source": [
        "Conclusion: Number of active rockets of ISRO is more when compared to retired rockets"
      ]
    },
    {
      "cell_type": "markdown",
      "metadata": {
        "id": "-mWNjdGqpjYN"
      },
      "source": [
        "##Country Analysis##"
      ]
    },
    {
      "cell_type": "code",
      "metadata": {
        "id": "4XABwraxggyc"
      },
      "source": [
        "#Extracting Country using the location column\n",
        "df['country'] = df['Location'].str.split(', ').str[-1]\n",
        "df['country'].head()   "
      ],
      "execution_count": null,
      "outputs": []
    },
    {
      "cell_type": "code",
      "metadata": {
        "id": "upEE1Y7zgscb"
      },
      "source": [
        "# Count of Each country's Rocket Missions\n",
        "data = df['country'].value_counts().reset_index()\n",
        "\n",
        "data.columns = [\n",
        "    'Country', \n",
        "    'count'\n",
        "]"
      ],
      "execution_count": null,
      "outputs": []
    },
    {
      "cell_type": "code",
      "metadata": {
        "id": "itFAG5600akW"
      },
      "source": [
        "# Countries with Rocket Missions\n",
        "fig = px.scatter(  \n",
        "     data,\n",
        "    y='count', \n",
        "    x='Country',  \n",
        "    title='Country with Rocket missions', \n",
        "    width=700, \n",
        "    height=700,\n",
        "    size='count',\n",
        "    size_max=30\n",
        ")\n",
        "fig.show()"
      ],
      "execution_count": null,
      "outputs": []
    },
    {
      "cell_type": "markdown",
      "metadata": {
        "id": "avA0za3Cpqkr"
      },
      "source": [
        "Conclusion: Russia has had the highest number of space missions"
      ]
    },
    {
      "cell_type": "code",
      "metadata": {
        "id": "8ZPoo35Sgv-D"
      },
      "source": [
        "#Countries with Successful space missions\n",
        "Success1=df[df['Status Mission']=='Success']\n",
        "\n",
        "data = Success1['country'].value_counts().reset_index()\n",
        "\n",
        "data.columns = [\n",
        "    'Country', \n",
        "    'count'\n",
        "]\n",
        "\n",
        "fig = px.scatter(\n",
        "    data, \n",
        "    y='count', \n",
        "    x='Country', \n",
        "    title='country with most successful space missions', \n",
        "    width=700, \n",
        "    height=700,\n",
        "    size='count',\n",
        "    size_max=30\n",
        ")\n",
        "\n",
        "fig.show()"
      ],
      "execution_count": null,
      "outputs": []
    },
    {
      "cell_type": "markdown",
      "metadata": {
        "id": "DjSDhyCmqWck"
      },
      "source": [
        "Conclusion: Russia has had the highest number of successful space missions"
      ]
    },
    {
      "cell_type": "markdown",
      "metadata": {
        "id": "zyR9xBZZtUpR"
      },
      "source": [
        "##Launch Year##"
      ]
    },
    {
      "cell_type": "code",
      "metadata": {
        "id": "uJ5Cng9ytJPc"
      },
      "source": [
        "# To analyse and plot the number of space mission per year\n",
        "def get_year(x):\n",
        "    return x[12:16]\n",
        "df['Year']=df['Datum'].map(get_year)\n",
        "df['Year']=df['Year'].astype('int64')\n",
        "\n",
        "data = df['Year'].value_counts().reset_index()\n",
        "\n",
        "data.columns = [\n",
        "    'Year', \n",
        "    'count'\n",
        "]\n",
        "\n",
        "fig = px.bar(\n",
        "    data, \n",
        "    y='count', \n",
        "    x='Year', \n",
        "    orientation='v', \n",
        "    title='Year with most space missions', \n",
        "    width=800, \n",
        "    height=800,\n",
        "    color='count'\n",
        ")\n",
        "\n",
        "fig.show()"
      ],
      "execution_count": null,
      "outputs": []
    },
    {
      "cell_type": "markdown",
      "metadata": {
        "id": "wlBgsaC-uD-l"
      },
      "source": [
        "Conclusion: 1971 majority of the space missions took place"
      ]
    },
    {
      "cell_type": "code",
      "metadata": {
        "id": "DPFuy-uqtdRC"
      },
      "source": [
        "# To analyse and plot the number of successful space mission per year\n",
        "Success=df[df['Status Mission']=='Success']\n",
        "\n",
        "data = Success['Year'].value_counts().reset_index()\n",
        "\n",
        "data.columns = [\n",
        "    'Year', \n",
        "    'count'\n",
        "]\n",
        "\n",
        "fig = px.bar(\n",
        "    data, \n",
        "    y='count', \n",
        "    x='Year',  \n",
        "    title='Year with most successful space missions', \n",
        "    width=800, \n",
        "    height=800,\n",
        "    color='count'\n",
        ")\n",
        "\n",
        "fig.show()"
      ],
      "execution_count": null,
      "outputs": []
    },
    {
      "cell_type": "markdown",
      "metadata": {
        "id": "uNrjkmUVuRJG"
      },
      "source": [
        "Conclusion: In 2018, maximum successful space missions took place"
      ]
    },
    {
      "cell_type": "markdown",
      "metadata": {
        "id": "OA-HS8Jetq4S"
      },
      "source": [
        "##Launch Month##"
      ]
    },
    {
      "cell_type": "code",
      "metadata": {
        "id": "VhVznE95tj1W"
      },
      "source": [
        "# To analyse and plot the number of space mission per month\n",
        "def get_month(x):\n",
        "    return x[4:7]\n",
        "df['Month']=df['Datum'].map(get_month)\n",
        " \n",
        "data = df['Month'].value_counts().reset_index()\n",
        " \n",
        "data.columns = [\n",
        "    'Month', \n",
        "    'count'\n",
        "]\n",
        " \n",
        "fig = px.line(\n",
        "    data, \n",
        "    y='count', \n",
        "    x='Month', \n",
        "    title='Month with most space missions', \n",
        "    width=500, \n",
        "    height=500)\n",
        "fig.show()"
      ],
      "execution_count": null,
      "outputs": []
    },
    {
      "cell_type": "markdown",
      "metadata": {
        "id": "W16iikGlucM2"
      },
      "source": [
        "Conclusion: Maximum number of space missions take place in the month of December"
      ]
    },
    {
      "cell_type": "code",
      "metadata": {
        "id": "rg7hguLBtz3T"
      },
      "source": [
        "# To analyse and plot the number of successful space mission per month\n",
        "Successs=df[df['Status Mission']=='Success']\n",
        "Successs['Month'].value_counts().plot(kind='line',color='green')\n",
        "plt.title('Successful Space Missions per month')\n",
        "plt.xlabel('Month')\n",
        "plt.ylabel('Count')\n",
        "plt.show()"
      ],
      "execution_count": null,
      "outputs": []
    },
    {
      "cell_type": "markdown",
      "metadata": {
        "id": "hxDpfRkwu2so"
      },
      "source": [
        "Conclusion: December has seen maximum successful space missions"
      ]
    },
    {
      "cell_type": "markdown",
      "metadata": {
        "id": "wQCu-LGvq-8_"
      },
      "source": [
        "##Latest Launches per company"
      ]
    },
    {
      "cell_type": "code",
      "metadata": {
        "id": "2s8O1eytsGbZ"
      },
      "source": [
        "#To get the records of latest launch\n",
        "df_latest=df[df['Year']==2020]"
      ],
      "execution_count": null,
      "outputs": []
    },
    {
      "cell_type": "code",
      "metadata": {
        "id": "y5qNLbBkQI8V"
      },
      "source": [
        "# Plot latest launches using categoryplot\n",
        "sns.catplot('Company Name',data=df_latest,kind='count',height=8)\n",
        "plt.yticks(np.arange(20))\n",
        "plt.title('2020 launches',size=25)\n",
        "plt.xlabel('Company name',size=20)\n",
        "plt.xticks(size=15,rotation=45)\n",
        "plt.yticks(size=15)\n",
        "plt.ylabel('Number of missions',size=15)\n",
        "plt.show()"
      ],
      "execution_count": null,
      "outputs": []
    },
    {
      "cell_type": "markdown",
      "metadata": {
        "id": "xYTNf2M2u_MJ"
      },
      "source": [
        "Conclusion: CASC has the maximum latest space missions"
      ]
    },
    {
      "cell_type": "code",
      "metadata": {
        "id": "12pTuBW1aGTX"
      },
      "source": [
        "# To plot country with both status mission and status rocket\n",
        "fig = px.strip(df, x=\"country\", y=\"Status Mission\",color='Status Rocket')\n",
        "fig.show()"
      ],
      "execution_count": null,
      "outputs": []
    },
    {
      "cell_type": "markdown",
      "metadata": {
        "id": "M2mJquAvZRQW"
      },
      "source": [
        "##Coutries that has been consistent in Space Missions"
      ]
    },
    {
      "cell_type": "code",
      "metadata": {
        "id": "jIyFZ13FYfdv"
      },
      "source": [
        "fig = px.histogram(df, x=\"Year\", y=\"Status Mission\", color=\"country\", hover_data=df.columns)\n",
        "fig.show()"
      ],
      "execution_count": null,
      "outputs": []
    },
    {
      "cell_type": "markdown",
      "metadata": {
        "id": "5uhjR1hm8Qx5"
      },
      "source": [
        "##The space missions through the years##"
      ]
    },
    {
      "cell_type": "code",
      "metadata": {
        "id": "IK5BGerTzWX8"
      },
      "source": [
        "# to plot the space missions through the years\n",
        "plt.figure(figsize=(15,10))\n",
        "sns.distplot(df['Year'],bins=100)\n",
        "plt.title(\"The space missions through the years\")\n",
        "plt.show()"
      ],
      "execution_count": null,
      "outputs": []
    },
    {
      "cell_type": "code",
      "metadata": {
        "id": "DOYdMXJgxtp-"
      },
      "source": [
        ""
      ],
      "execution_count": null,
      "outputs": []
    }
  ]
}